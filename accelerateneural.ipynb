{
  "nbformat": 4,
  "nbformat_minor": 0,
  "metadata": {
    "colab": {
      "name": "accelerateneural.ipynb",
      "provenance": [],
      "authorship_tag": "ABX9TyMuf3ehH2BuW5asAITn0NKW",
      "include_colab_link": true
    },
    "kernelspec": {
      "name": "python3",
      "display_name": "Python 3"
    },
    "language_info": {
      "name": "python"
    },
    "accelerator": "GPU"
  },
  "cells": [
    {
      "cell_type": "markdown",
      "metadata": {
        "id": "view-in-github",
        "colab_type": "text"
      },
      "source": [
        "<a href=\"https://colab.research.google.com/github/pabloperfer/CUDAexercises/blob/main/accelerateneural.ipynb\" target=\"_parent\"><img src=\"https://colab.research.google.com/assets/colab-badge.svg\" alt=\"Open In Colab\"/></a>"
      ]
    },
    {
      "cell_type": "code",
      "execution_count": 9,
      "metadata": {
        "id": "vP8UpdYNiYhE"
      },
      "outputs": [],
      "source": [
        "import numpy as np\n",
        "from numba import cuda, vectorize\n",
        "\n",
        "n = 1000000\n",
        "\n",
        "greyscales = np.floor(np.random.uniform(0, 255, n).astype(np.float32))\n",
        "weights = np.random.normal(.5, .1, n).astype(np.float32)"
      ]
    },
    {
      "cell_type": "code",
      "source": [
        "from math import exp"
      ],
      "metadata": {
        "id": "48MNMRH-i5EB"
      },
      "execution_count": 10,
      "outputs": []
    },
    {
      "cell_type": "code",
      "source": [
        "from numba import vectorize\n",
        "@vectorize(['float32(float32)'], target='cuda')\n",
        "def normalize(grayscales):\n",
        "    return grayscales / 255\n",
        "\n",
        "@vectorize(['float32(float32,float32)'], target='cuda')\n",
        "def weigh(values, weights):\n",
        "    return values * weights\n",
        "        \n",
        "@vectorize(['float32(float32)'], target='cuda')    \n",
        "def activate(values):\n",
        "    return ( exp(values) - exp(-values) ) / ( exp(values) + exp(-values) )"
      ],
      "metadata": {
        "id": "O2L2qXBmi7NY"
      },
      "execution_count": 11,
      "outputs": []
    },
    {
      "cell_type": "code",
      "source": [
        "def create_hidden_layer(n, greyscales, weights, exp, normalize, weigh, activate):\n",
        "    d_greyscales = cuda.to_device(greyscales)\n",
        "    d_weights = cuda.to_device(weights)\n",
        "    \n",
        "    normalized = normalize(d_greyscales)\n",
        "    weighted = weigh(normalized, d_weights)\n",
        "    activated = activate(weighted)\n",
        "    \n",
        "    out_host = activated.copy_to_host()\n",
        "    return activated"
      ],
      "metadata": {
        "id": "Ar3I3L-hjNlK"
      },
      "execution_count": 12,
      "outputs": []
    },
    {
      "cell_type": "code",
      "source": [
        "arguments = {\"n\":n,\n",
        "            \"greyscales\": greyscales,\n",
        "            \"weights\": weights,\n",
        "            \"exp\": exp,\n",
        "            \"normalize\": normalize,\n",
        "            \"weigh\": weigh,\n",
        "            \"activate\": activate}\n",
        "a = create_hidden_layer(**arguments)\n",
        "print(a)"
      ],
      "metadata": {
        "colab": {
          "base_uri": "https://localhost:8080/"
        },
        "id": "T0ZAzSPeja5Q",
        "outputId": "d233d23f-40f4-4efb-cbbe-2f32e62bd5ea"
      },
      "execution_count": 13,
      "outputs": [
        {
          "output_type": "stream",
          "name": "stdout",
          "text": [
            "<numba.cuda.cudadrv.devicearray.DeviceNDArray object at 0x7f3018230310>\n"
          ]
        }
      ]
    }
  ]
}