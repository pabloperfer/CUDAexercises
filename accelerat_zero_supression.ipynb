{
  "nbformat": 4,
  "nbformat_minor": 0,
  "metadata": {
    "colab": {
      "name": "accelerat_zero_supression.ipynb",
      "provenance": [],
      "authorship_tag": "ABX9TyNEeEJ/JraqzD8cEA09XjdY",
      "include_colab_link": true
    },
    "kernelspec": {
      "name": "python3",
      "display_name": "Python 3"
    },
    "language_info": {
      "name": "python"
    },
    "accelerator": "GPU"
  },
  "cells": [
    {
      "cell_type": "markdown",
      "metadata": {
        "id": "view-in-github",
        "colab_type": "text"
      },
      "source": [
        "<a href=\"https://colab.research.google.com/github/pabloperfer/CUDAexercises/blob/main/accelerat_zero_supression.ipynb\" target=\"_parent\"><img src=\"https://colab.research.google.com/assets/colab-badge.svg\" alt=\"Open In Colab\"/></a>"
      ]
    },
    {
      "cell_type": "code",
      "execution_count": 3,
      "metadata": {
        "id": "eBOEA53DNdau"
      },
      "outputs": [],
      "source": [
        "import numpy as np\n",
        "import matplotlib.pyplot as plt\n",
        "\n",
        "# This allow us to plot right here in the notebook\n",
        "%matplotlib inline\n",
        "\n",
        "# Hacking up a noisy pulse train\n",
        "from matplotlib import pyplot as plt\n",
        "\n",
        "n = 100000\n",
        "noise = np.random.normal(size=n)*3\n",
        "pulses= np.maximum(np.sin(np.arange(n)/(n/23))-0.3,0.0)\n",
        "waveform=((pulses*300)+noise).astype(np.int16)\n"
      ]
    },
    {
      "cell_type": "code",
      "source": [
        "from numba import vectorize, cuda\n",
        "@vectorize(['int16(int16,int16)'],target='cuda')\n",
        "def zero_suppress(waveform_value, threshold):\n",
        "  if waveform_value < threshold:\n",
        "    result = 0\n",
        "  else:\n",
        "    result = waveform_value\n",
        "  return result"
      ],
      "metadata": {
        "id": "-ft_QHG7N87S"
      },
      "execution_count": 4,
      "outputs": []
    },
    {
      "cell_type": "code",
      "source": [
        "plt.plot(zero_suppress(waveform, 15))"
      ],
      "metadata": {
        "colab": {
          "base_uri": "https://localhost:8080/",
          "height": 284
        },
        "id": "gxD5JJkWOEDp",
        "outputId": "0fd24822-fa8a-465e-af38-2abf73497c80"
      },
      "execution_count": 5,
      "outputs": [
        {
          "output_type": "execute_result",
          "data": {
            "text/plain": [
              "[<matplotlib.lines.Line2D at 0x7f32c1bda5d0>]"
            ]
          },
          "metadata": {},
          "execution_count": 5
        },
        {
          "output_type": "display_data",
          "data": {
            "image/png": "[encoded data removed]",
            "text/plain": [
              "<Figure size 432x288 with 1 Axes>"
            ]
          },
          "metadata": {
            "needs_background": "light"
          }
        }
      ]
    }
  ]
}