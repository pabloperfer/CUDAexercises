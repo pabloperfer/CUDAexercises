{
  "nbformat": 4,
  "nbformat_minor": 0,
  "metadata": {
    "colab": {
      "name": "cuda_histogram.ipynb",
      "provenance": [],
      "authorship_tag": "ABX9TyOey+hYH1dzFenAbRhHuOR/",
      "include_colab_link": true
    },
    "kernelspec": {
      "name": "python3",
      "display_name": "Python 3"
    },
    "language_info": {
      "name": "python"
    },
    "accelerator": "GPU"
  },
  "cells": [
    {
      "cell_type": "markdown",
      "metadata": {
        "id": "view-in-github",
        "colab_type": "text"
      },
      "source": [
        "<a href=\"https://colab.research.google.com/github/pabloperfer/CUDAexercises/blob/main/cuda_histogram.ipynb\" target=\"_parent\"><img src=\"https://colab.research.google.com/assets/colab-badge.svg\" alt=\"Open In Colab\"/></a>"
      ]
    },
    {
      "cell_type": "code",
      "source": [
        "from numba import cuda\n",
        "@cuda.jit\n",
        "def cuda_histogram(x, xmin, xmax, histogram_out):    \n",
        "    nbins = histogram_out.shape[0]\n",
        "    bin_width = (xmax - xmin) / nbins\n",
        "    \n",
        "    start = cuda.grid(1)\n",
        "    stride=cuda.gridsize(1)\n",
        "    \n",
        "    for z in range(start, x.shape[0], stride):\n",
        "        bin_number = np.int32((x[z] - xmin)/bin_width)\n",
        "        if bin_number >= 0 and bin_number < histogram_out.shape[0]:\n",
        "            cuda.atomic.add(histogram_out, bin_number, 1)"
      ],
      "metadata": {
        "id": "XJjUbnkP4mVG"
      },
      "execution_count": 18,
      "outputs": []
    },
    {
      "cell_type": "code",
      "source": [
        "d_x = cuda.to_device(x)\n",
        "d_histogram_out = cuda.to_device(np.zeros(shape=10, dtype=np.int32))\n",
        "\n",
        "blocks = 128\n",
        "threads_per_block = 64\n",
        "\n",
        "cuda_histogram[blocks, threads_per_block](d_x, xmin, xmax, d_histogram_out)"
      ],
      "metadata": {
        "id": "mwDBzLEm4wwR"
      },
      "execution_count": 19,
      "outputs": []
    },
    {
      "cell_type": "code",
      "source": [
        "np.testing.assert_array_almost_equal(d_histogram_out.copy_to_host(), histogram_out, decimal=2)"
      ],
      "metadata": {
        "id": "-Zk5XE5D404e"
      },
      "execution_count": 20,
      "outputs": []
    }
  ]
}