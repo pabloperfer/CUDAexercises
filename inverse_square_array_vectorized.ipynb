{
  "cells": [
    {
      "cell_type": "markdown",
      "metadata": {
        "id": "view-in-github",
        "colab_type": "text"
      },
      "source": [
        "<a href=\"https://colab.research.google.com/github/pabloperfer/CUDAexercises/blob/main/inverse_square_array_vectorized.ipynb\" target=\"_parent\"><img src=\"https://colab.research.google.com/assets/colab-badge.svg\" alt=\"Open In Colab\"/></a>"
      ]
    },
    {
      "cell_type": "code",
      "execution_count": 2,
      "metadata": {
        "id": "8Z4x6BVN-PAF"
      },
      "outputs": [],
      "source": [
        "from numba import vectorize \n",
        "import numpy as np\n",
        "\n",
        "@vectorize\n",
        "def normal_isqrt(number):\n",
        "  return number ** -0.5\n",
        "\n",
        "def inverse(n): \n",
        "  ar=np.arange(1,n) \n",
        "  a= normal_isqrt(ar)\n",
        "  return float (a[9999999])\n",
        "\n",
        "\n",
        "\n",
        "\n",
        "\n",
        "\n",
        "\n",
        "\n",
        "\n",
        "\n",
        "\n"
      ]
    },
    {
      "cell_type": "code",
      "execution_count": 3,
      "metadata": {
        "colab": {
          "base_uri": "https://localhost:8080/"
        },
        "id": "isvyoY66-j1E",
        "outputId": "f5e92792-d33b-42f1-9d98-8d2487ed0736"
      },
      "outputs": [
        {
          "output_type": "stream",
          "name": "stdout",
          "text": [
            "1 loop, best of 5: 617 ms per loop\n"
          ]
        }
      ],
      "source": [
        "timeit inverse(10000001)\n"
      ]
    }
  ],
  "metadata": {
    "accelerator": "GPU",
    "colab": {
      "name": "inverse_square_array_vectorized",
      "provenance": [],
      "collapsed_sections": [],
      "authorship_tag": "ABX9TyPUerUOIc4wLUTekjZ0IPZ+",
      "include_colab_link": true
    },
    "kernelspec": {
      "display_name": "Python 3",
      "name": "python3"
    },
    "language_info": {
      "name": "python"
    }
  },
  "nbformat": 4,
  "nbformat_minor": 0
}