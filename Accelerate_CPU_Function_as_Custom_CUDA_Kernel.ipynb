{
  "nbformat": 4,
  "nbformat_minor": 0,
  "metadata": {
    "colab": {
      "name": "Accelerate_CPU_Function_as_Custom_CUDA_Kernel.ipynb",
      "provenance": [],
      "authorship_tag": "ABX9TyNT6k639eDu0GcWSmN4bro5",
      "include_colab_link": true
    },
    "kernelspec": {
      "name": "python3",
      "display_name": "Python 3"
    },
    "language_info": {
      "name": "python"
    },
    "accelerator": "GPU"
  },
  "cells": [
    {
      "cell_type": "markdown",
      "metadata": {
        "id": "view-in-github",
        "colab_type": "text"
      },
      "source": [
        "<a href=\"https://colab.research.google.com/github/pabloperfer/CUDAexercises/blob/main/Accelerate_CPU_Function_as_Custom_CUDA_Kernel.ipynb\" target=\"_parent\"><img src=\"https://colab.research.google.com/assets/colab-badge.svg\" alt=\"Open In Colab\"/></a>"
      ]
    },
    {
      "cell_type": "code",
      "execution_count": 9,
      "metadata": {
        "id": "1qDH7hMGH9UM"
      },
      "outputs": [],
      "source": [
        "from numba import cuda\n",
        "@cuda.jit\n",
        "def square_device(a, out):\n",
        "    idx = cuda.grid(1)\n",
        "    out[idx] = a[idx]**2"
      ]
    },
    {
      "cell_type": "code",
      "source": [
        "import numpy as np\n",
        "n = 4096\n",
        "\n",
        "a = np.arange(n)\n",
        "out = a**2"
      ],
      "metadata": {
        "id": "FlnF1xMwIX8t"
      },
      "execution_count": 10,
      "outputs": []
    },
    {
      "cell_type": "code",
      "source": [
        "d_a = cuda.to_device(a)\n",
        "d_out = cuda.device_array(shape=(n,), dtype=np.float32)\n",
        "\n",
        "threads_per_block = 128\n",
        "blocks_per_grid  = 32\n",
        "\n",
        "square_device[threads_per_block,blocks_per_grid](d_a, d_out)"
      ],
      "metadata": {
        "id": "Y2W1rSjBIeSm"
      },
      "execution_count": 12,
      "outputs": []
    },
    {
      "cell_type": "code",
      "source": [
        "from numpy import testing\n",
        "testing.assert_almost_equal(d_out, out)"
      ],
      "metadata": {
        "id": "0mO5M2p7TMYG"
      },
      "execution_count": 13,
      "outputs": []
    }
  ]
}