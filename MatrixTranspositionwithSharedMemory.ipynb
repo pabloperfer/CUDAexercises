{
  "nbformat": 4,
  "nbformat_minor": 0,
  "metadata": {
    "colab": {
      "name": "MatrixTranspositionwithSharedMemory.ipynb",
      "provenance": [],
      "collapsed_sections": [],
      "authorship_tag": "ABX9TyMLkPkKt7wY6J+CHSfUCol8",
      "include_colab_link": true
    },
    "kernelspec": {
      "name": "python3",
      "display_name": "Python 3"
    },
    "language_info": {
      "name": "python"
    },
    "accelerator": "GPU"
  },
  "cells": [
    {
      "cell_type": "markdown",
      "metadata": {
        "id": "view-in-github",
        "colab_type": "text"
      },
      "source": [
        "<a href=\"https://colab.research.google.com/github/pabloperfer/CUDAexercises/blob/main/MatrixTranspositionwithSharedMemory.ipynb\" target=\"_parent\"><img src=\"https://colab.research.google.com/assets/colab-badge.svg\" alt=\"Open In Colab\"/></a>"
      ]
    },
    {
      "cell_type": "code",
      "execution_count": 1,
      "metadata": {
        "id": "Naf1Jx9xctwz"
      },
      "outputs": [],
      "source": [
        "from numba.cuda.stubs import syncthreads\n",
        "import numpy as np\n",
        "from numba import cuda\n",
        "import numba.types\n",
        "\n",
        "TILE_DIM=32\n",
        "\n",
        "@cuda.jit\n",
        "def transpose(a_in, a_out):\n",
        "  #Explicitly calculate indices rather than using cuda.grid(2)\n",
        "  tile = cuda.shared.array((TILE_DIM, TILE_DIM), numba.types.int32)\n",
        "  row = cuda.blockIdx.x * TILE_DIM + cuda.threadIdx.x\n",
        "  col = cuda.blockIdx.y * TILE_DIM + cuda.threadIdx.y\n",
        "  \n",
        "  \n",
        "  for z in range (0,TILE_DIM,TILE_DIM):\n",
        "    tile[cuda.threadIdx.y + z,cuda.threadIdx.x] = a_in[col + z, row ]\n",
        "                                         \n",
        "  cuda.syncthreads()\n",
        " \n",
        "  for i in range (0,TILE_DIM,TILE_DIM):\n",
        "    a_out[col + i , row] = tile[cuda.threadIdx.x][cuda.threadIdx.y + i]\n",
        "    \n",
        "  \n"
      ]
    },
    {
      "cell_type": "code",
      "source": [
        "size = 16384\n",
        "a_in = cuda.to_device(np.arange(size*size,dtype=np.int32).reshape((size,size)))\n",
        "a_out = cuda.device_array_like(a_in)\n",
        "\n",
        "print(a_in.copy_to_host())\n",
        "print(a_out.copy_to_host())"
      ],
      "metadata": {
        "colab": {
          "base_uri": "https://localhost:8080/"
        },
        "id": "6EyB_mKMdvlA",
        "outputId": "6b1dc3fd-7388-4cd8-dc65-78e445284700"
      },
      "execution_count": 2,
      "outputs": [
        {
          "output_type": "stream",
          "name": "stdout",
          "text": [
            "[[        0         1         2 ...     16381     16382     16383]\n",
            " [    16384     16385     16386 ...     32765     32766     32767]\n",
            " [    32768     32769     32770 ...     49149     49150     49151]\n",
            " ...\n",
            " [268386304 268386305 268386306 ... 268402685 268402686 268402687]\n",
            " [268402688 268402689 268402690 ... 268419069 268419070 268419071]\n",
            " [268419072 268419073 268419074 ... 268435453 268435454 268435455]]\n",
            "[[0 0 0 ... 0 0 0]\n",
            " [0 0 0 ... 0 0 0]\n",
            " [0 0 0 ... 0 0 0]\n",
            " ...\n",
            " [0 0 0 ... 0 0 0]\n",
            " [0 0 0 ... 0 0 0]\n",
            " [0 0 0 ... 0 0 0]]\n"
          ]
        }
      ]
    },
    {
      "cell_type": "code",
      "source": [
        "threads_per_block=(32,32)\n",
        "blocks_per_grid=(int(size/threads_per_block[0]),int(size/threads_per_block[1]))"
      ],
      "metadata": {
        "id": "0vORoMiweklz"
      },
      "execution_count": 3,
      "outputs": []
    },
    {
      "cell_type": "code",
      "source": [
        "timeit transpose[blocks_per_grid, threads_per_block](a_in,a_out); cuda.synchronize();print(a_out.copy_to_host())"
      ],
      "metadata": {
        "colab": {
          "base_uri": "https://localhost:8080/"
        },
        "id": "TWHVpoZ7fcLx",
        "outputId": "fb7d635b-25ca-4cad-9dd3-94245770728d"
      },
      "execution_count": 4,
      "outputs": [
        {
          "output_type": "stream",
          "name": "stdout",
          "text": [
            "[[        0     16384     32768 ...    491488    507872    524256]\n",
            " [        1     16385     32769 ...    491489    507873    524257]\n",
            " [        2     16386     32770 ...    491490    507874    524258]\n",
            " ...\n",
            " [267911197 267927581 267943965 ... 268402685 268419069 268435453]\n",
            " [267911198 267927582 267943966 ... 268402686 268419070 268435454]\n",
            " [267911199 267927583 267943967 ... 268402687 268419071 268435455]]\n",
            "[[        0     16384     32768 ...    491488    507872    524256]\n",
            " [        1     16385     32769 ...    491489    507873    524257]\n",
            " [        2     16386     32770 ...    491490    507874    524258]\n",
            " ...\n",
            " [267911197 267927581 267943965 ... 268402685 268419069 268435453]\n",
            " [267911198 267927582 267943966 ... 268402686 268419070 268435454]\n",
            " [267911199 267927583 267943967 ... 268402687 268419071 268435455]]\n",
            "[[        0     16384     32768 ...    491488    507872    524256]\n",
            " [        1     16385     32769 ...    491489    507873    524257]\n",
            " [        2     16386     32770 ...    491490    507874    524258]\n",
            " ...\n",
            " [267911197 267927581 267943965 ... 268402685 268419069 268435453]\n",
            " [267911198 267927582 267943966 ... 268402686 268419070 268435454]\n",
            " [267911199 267927583 267943967 ... 268402687 268419071 268435455]]\n",
            "[[        0     16384     32768 ...    491488    507872    524256]\n",
            " [        1     16385     32769 ...    491489    507873    524257]\n",
            " [        2     16386     32770 ...    491490    507874    524258]\n",
            " ...\n",
            " [267911197 267927581 267943965 ... 268402685 268419069 268435453]\n",
            " [267911198 267927582 267943966 ... 268402686 268419070 268435454]\n",
            " [267911199 267927583 267943967 ... 268402687 268419071 268435455]]\n",
            "[[        0     16384     32768 ...    491488    507872    524256]\n",
            " [        1     16385     32769 ...    491489    507873    524257]\n",
            " [        2     16386     32770 ...    491490    507874    524258]\n",
            " ...\n",
            " [267911197 267927581 267943965 ... 268402685 268419069 268435453]\n",
            " [267911198 267927582 267943966 ... 268402686 268419070 268435454]\n",
            " [267911199 267927583 267943967 ... 268402687 268419071 268435455]]\n",
            "[[        0     16384     32768 ...    491488    507872    524256]\n",
            " [        1     16385     32769 ...    491489    507873    524257]\n",
            " [        2     16386     32770 ...    491490    507874    524258]\n",
            " ...\n",
            " [267911197 267927581 267943965 ... 268402685 268419069 268435453]\n",
            " [267911198 267927582 267943966 ... 268402686 268419070 268435454]\n",
            " [267911199 267927583 267943967 ... 268402687 268419071 268435455]]\n",
            "The slowest run took 4.50 times longer than the fastest. This could mean that an intermediate result is being cached.\n",
            "1 loop, best of 5: 216 ms per loop\n"
          ]
        }
      ]
    }
  ]
}