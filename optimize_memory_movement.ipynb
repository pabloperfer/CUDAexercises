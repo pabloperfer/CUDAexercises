{
  "nbformat": 4,
  "nbformat_minor": 0,
  "metadata": {
    "colab": {
      "name": "optimize_memory_movement.ipynb",
      "provenance": [],
      "authorship_tag": "ABX9TyP/ThSwG3RnVwNfvVjk5dfF",
      "include_colab_link": true
    },
    "kernelspec": {
      "name": "python3",
      "display_name": "Python 3"
    },
    "language_info": {
      "name": "python"
    },
    "accelerator": "GPU"
  },
  "cells": [
    {
      "cell_type": "markdown",
      "metadata": {
        "id": "view-in-github",
        "colab_type": "text"
      },
      "source": [
        "<a href=\"https://colab.research.google.com/github/pabloperfer/CUDAexercises/blob/main/optimize_memory_movement.ipynb\" target=\"_parent\"><img src=\"https://colab.research.google.com/assets/colab-badge.svg\" alt=\"Open In Colab\"/></a>"
      ]
    },
    {
      "cell_type": "code",
      "execution_count": 1,
      "metadata": {
        "id": "AX4U4ci6jTxz"
      },
      "outputs": [],
      "source": [
        "from numba import vectorize\n",
        "@vectorize(['float32(float32,float32)'],target='cuda')\n",
        "def add_ufunc(x,y):\n",
        "  return x+y"
      ]
    },
    {
      "cell_type": "code",
      "source": [
        "from numba import vectorize\n",
        "import math\n",
        "@vectorize(['float32(float32,float32,float32)'],target='cuda')\n",
        "def make_pulses(i,period,amplitude):\n",
        "  return max(math.sin(i/period)-0.3,0.0)*amplitude"
      ],
      "metadata": {
        "id": "y6au9NKIjWQ7"
      },
      "execution_count": 2,
      "outputs": []
    },
    {
      "cell_type": "code",
      "source": [
        "import numpy as np\n",
        "from numba import cuda\n",
        "n=100000\n",
        "noise=(np.random.normal(size=n)*3).astype(np.float32)\n",
        "t=np.arange(n,dtype=np.float32)\n",
        "period = n/23"
      ],
      "metadata": {
        "id": "tA1cOTh8m4_N"
      },
      "execution_count": 3,
      "outputs": []
    },
    {
      "cell_type": "code",
      "source": [
        "from numba import cuda\n",
        "#pulses=make_pulses(t,period,100.0)\n",
        "#waveform=add_ufunc(pulses,noise)\n",
        "device_noise = cuda.to_device(noise)\n",
        "device_t = cuda.to_device(t)\n",
        "device_pulses = cuda.device_array(shape=(n), dtype=np.float32)\n",
        "make_pulses(device_t, period, 100.0, out=device_pulses)\n",
        "waveform = add_ufunc(device_pulses, device_noise)\n"
      ],
      "metadata": {
        "id": "qEfhxnxKneyS"
      },
      "execution_count": 4,
      "outputs": []
    },
    {
      "cell_type": "code",
      "source": [
        "%matplotlib inline\n",
        "import matplotlib.pyplot as plt\n",
        "plt.plot(waveform)"
      ],
      "metadata": {
        "colab": {
          "base_uri": "https://localhost:8080/",
          "height": 284
        },
        "id": "--GFiIU3oBSh",
        "outputId": "480b9f04-fc83-4eaf-f436-4fcff638f5e1"
      },
      "execution_count": 5,
      "outputs": [
        {
          "output_type": "execute_result",
          "data": {
            "text/plain": [
              "[<matplotlib.lines.Line2D at 0x7fcc61ba2b50>]"
            ]
          },
          "metadata": {},
          "execution_count": 5
        },
        {
          "output_type": "display_data",
          "data": {
            "image/png": "[encoded data removed]",
            "text/plain": [
              "<Figure size 432x288 with 1 Axes>"
            ]
          },
          "metadata": {
            "needs_background": "light"
          }
        }
      ]
    }
  ]
}