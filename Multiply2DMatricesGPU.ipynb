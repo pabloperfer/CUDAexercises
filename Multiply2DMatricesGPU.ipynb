{
  "nbformat": 4,
  "nbformat_minor": 0,
  "metadata": {
    "colab": {
      "name": "Multiply2DMatricesGPU.ipynb",
      "provenance": [],
      "authorship_tag": "ABX9TyPw9aOyronF8jUckeb2fADf",
      "include_colab_link": true
    },
    "kernelspec": {
      "name": "python3",
      "display_name": "Python 3"
    },
    "language_info": {
      "name": "python"
    },
    "accelerator": "GPU"
  },
  "cells": [
    {
      "cell_type": "markdown",
      "metadata": {
        "id": "view-in-github",
        "colab_type": "text"
      },
      "source": [
        "<a href=\"https://colab.research.google.com/github/pabloperfer/CUDAexercises/blob/main/Multiply2DMatricesGPU.ipynb\" target=\"_parent\"><img src=\"https://colab.research.google.com/assets/colab-badge.svg\" alt=\"Open In Colab\"/></a>"
      ]
    },
    {
      "cell_type": "code",
      "execution_count": 136,
      "metadata": {
        "id": "oSp9fhViKsc2"
      },
      "outputs": [],
      "source": [
        "from numba.cuda.cudadrv.devices import reset\n",
        "import numpy as np\n",
        "from numba import cuda\n",
        "\n",
        "@cuda.jit\n",
        "def mm(a,b,c):\n",
        "  row, column = cuda.grid(2)\n",
        "  sum = 0\n",
        "  \n",
        "  for i in range(len(a)):\n",
        "    for j in range(len(b[0])):\n",
        "        for k in range(len(b)):\n",
        "          sum = sum + a[i][k]*b[k][j]\n",
        "        c[i][j] = sum\n",
        "        sum=0\n"
      ]
    },
    {
      "cell_type": "code",
      "source": [
        "a=np.arange(16).reshape(4,4).astype(np.int32)\n",
        "b=np.arange(16).reshape(4,4).astype(np.int32)\n",
        "c=np.zeros_like(a)\n",
        "\n",
        "d_a = cuda.to_device(a)\n",
        "d_b = cuda.to_device(b)\n",
        "d_c = cuda.to_device(c)\n",
        "\n",
        "grid=(2,2)\n",
        "block=(2,2)\n",
        "mm[grid, block](d_a, d_b, d_c)\n"
      ],
      "metadata": {
        "id": "dFVMAiF4LHS0"
      },
      "execution_count": 139,
      "outputs": []
    },
    {
      "cell_type": "code",
      "source": [
        "from numpy import testing\n",
        "solution= a@b\n",
        "output=d_c.copy_to_host()\n",
        "print (output)\n",
        "\n",
        "testing.assert_array_equal(output, solution)"
      ],
      "metadata": {
        "colab": {
          "base_uri": "https://localhost:8080/"
        },
        "id": "oSHyKY0-NYTZ",
        "outputId": "8d7a009f-f9a4-4e9c-9d73-0221bdc3fc36"
      },
      "execution_count": 140,
      "outputs": [
        {
          "output_type": "stream",
          "name": "stdout",
          "text": [
            "[[ 56  62  68  74]\n",
            " [152 174 196 218]\n",
            " [248 286 324 362]\n",
            " [344 398 452 506]]\n"
          ]
        }
      ]
    }
  ]
}