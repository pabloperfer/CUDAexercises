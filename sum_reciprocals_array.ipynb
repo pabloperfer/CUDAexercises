{
  "cells": [
    {
      "cell_type": "markdown",
      "metadata": {
        "id": "view-in-github",
        "colab_type": "text"
      },
      "source": [
        "<a href=\"https://colab.research.google.com/github/pabloperfer/CUDAexercises/blob/main/sum_reciprocals_array.ipynb\" target=\"_parent\"><img src=\"https://colab.research.google.com/assets/colab-badge.svg\" alt=\"Open In Colab\"/></a>"
      ]
    },
    {
      "cell_type": "code",
      "execution_count": null,
      "metadata": {
        "id": "8Z4x6BVN-PAF"
      },
      "outputs": [],
      "source": [
        "from numba.np.ufunc.decorators import vectorize\n",
        "from numba import jit\n",
        "import numpy as np\n",
        "@jit\n",
        "def sum(A):\n",
        "  a_list = np.arange(1,A)\n",
        "  return np.sum(1/a_list)\n",
        "\n",
        "\n"
      ]
    },
    {
      "cell_type": "code",
      "execution_count": null,
      "metadata": {
        "colab": {
          "base_uri": "https://localhost:8080/"
        },
        "id": "isvyoY66-j1E",
        "outputId": "45665a18-7b31-4dde-ca52-b92b8e38ee30"
      },
      "outputs": [
        {
          "output_type": "stream",
          "name": "stdout",
          "text": [
            "1 loop, best of 5: 476 ms per loop\n"
          ]
        }
      ],
      "source": [
        "timeit sum(100000001)"
      ]
    }
  ],
  "metadata": {
    "accelerator": "GPU",
    "colab": {
      "name": "sum_reciprocals_array",
      "provenance": [],
      "collapsed_sections": [],
      "authorship_tag": "ABX9TyO1Syo/Dz8rcQPpTC0aehTI",
      "include_colab_link": true
    },
    "kernelspec": {
      "display_name": "Python 3",
      "name": "python3"
    },
    "language_info": {
      "name": "python"
    }
  },
  "nbformat": 4,
  "nbformat_minor": 0
}