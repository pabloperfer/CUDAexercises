{
  "nbformat": 4,
  "nbformat_minor": 0,
  "metadata": {
    "colab": {
      "name": "StridingMultipleDimensions.ipynb",
      "provenance": [],
      "authorship_tag": "ABX9TyM183OJJ/o3lCiFAnxuerUc",
      "include_colab_link": true
    },
    "kernelspec": {
      "name": "python3",
      "display_name": "Python 3"
    },
    "language_info": {
      "name": "python"
    },
    "accelerator": "GPU"
  },
  "cells": [
    {
      "cell_type": "markdown",
      "metadata": {
        "id": "view-in-github",
        "colab_type": "text"
      },
      "source": [
        "<a href=\"https://colab.research.google.com/github/pabloperfer/CUDAexercises/blob/main/StridingMultipleDimensions.ipynb\" target=\"_parent\"><img src=\"https://colab.research.google.com/assets/colab-badge.svg\" alt=\"Open In Colab\"/></a>"
      ]
    },
    {
      "cell_type": "code",
      "execution_count": 19,
      "metadata": {
        "id": "07e_JgsznrtF"
      },
      "outputs": [],
      "source": [
        "import numpy as np\n",
        "from numba import cuda\n",
        "@cuda.jit\n",
        "def add_matrix_stride(A,B,C):\n",
        "  j,i = cuda.grid(2)\n",
        "  stride_y,stride_x = cuda.gridsize(2)\n",
        "\n",
        "#A.shape[0]=shape rows A.shape[1]=shape of columns\n",
        "  for data_i in range (i,A.shape[0],stride_x):\n",
        "    for data_j in range (j,A.shape[1],stride_y):\n",
        "      C[data_i][data_j]= A[data_i][data_j] \n",
        "  \n",
        "  for data_i in range (i,B.shape[0],stride_x):\n",
        "    for data_j in range (j,B.shape[1],stride_y):\n",
        "      C[data_i][data_j]+= B[data_i][data_j] \n",
        "      "
      ]
    },
    {
      "cell_type": "code",
      "source": [
        "A = np.arange(64*64).reshape(64,64).astype(np.int32)\n",
        "B = A * 2\n",
        "C = np.zeros_like(A)\n",
        "d_A = cuda.to_device(A)\n",
        "d_B = cuda.to_device(B)\n",
        "d_C = cuda.to_device(C)\n",
        "\n",
        "blocks = (6,6)\n",
        "threads_per_block = (6,6)\n",
        "\n",
        "add_matrix_stride[blocks, threads_per_block](d_A,d_B,d_C)"
      ],
      "metadata": {
        "id": "jwb6IvMIog63"
      },
      "execution_count": 20,
      "outputs": []
    },
    {
      "cell_type": "code",
      "source": [
        "from numpy import testing\n",
        "output = d_C.copy_to_host()\n",
        "print(output)\n",
        "solution=A+B\n",
        "testing.assert_array_equal(output,solution)\n"
      ],
      "metadata": {
        "colab": {
          "base_uri": "https://localhost:8080/"
        },
        "id": "Ai7NgtigpVVI",
        "outputId": "89f65fd8-e544-4f4c-8abe-d699568386a1"
      },
      "execution_count": 21,
      "outputs": [
        {
          "output_type": "stream",
          "name": "stdout",
          "text": [
            "[[    0     3     6 ...   183   186   189]\n",
            " [  192   195   198 ...   375   378   381]\n",
            " [  384   387   390 ...   567   570   573]\n",
            " ...\n",
            " [11712 11715 11718 ... 11895 11898 11901]\n",
            " [11904 11907 11910 ... 12087 12090 12093]\n",
            " [12096 12099 12102 ... 12279 12282 12285]]\n"
          ]
        }
      ]
    }
  ]
}