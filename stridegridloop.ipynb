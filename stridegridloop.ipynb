{
  "nbformat": 4,
  "nbformat_minor": 0,
  "metadata": {
    "colab": {
      "name": "stridegridloop.ipynb",
      "provenance": [],
      "authorship_tag": "ABX9TyNeS8d83IqUvhFXalOJfQBE",
      "include_colab_link": true
    },
    "kernelspec": {
      "name": "python3",
      "display_name": "Python 3"
    },
    "language_info": {
      "name": "python"
    },
    "accelerator": "GPU"
  },
  "cells": [
    {
      "cell_type": "markdown",
      "metadata": {
        "id": "view-in-github",
        "colab_type": "text"
      },
      "source": [
        "<a href=\"https://colab.research.google.com/github/pabloperfer/CUDAexercises/blob/main/stridegridloop.ipynb\" target=\"_parent\"><img src=\"https://colab.research.google.com/assets/colab-badge.svg\" alt=\"Open In Colab\"/></a>"
      ]
    },
    {
      "cell_type": "code",
      "execution_count": 3,
      "metadata": {
        "id": "0WWv6_g7P8E0"
      },
      "outputs": [],
      "source": [
        "from math import hypot\n",
        "from numba import cuda\n",
        "\n",
        "@cuda.jit\n",
        "def hypot_stride(a, b, c):\n",
        "    idx = cuda.grid(1)\n",
        "    stride = cuda.gridsize(1)\n",
        "\n",
        "    for x in range(idx, a.shape[0], stride):\n",
        "        c[x] = hypot(a[x], b[x])"
      ]
    },
    {
      "cell_type": "code",
      "source": [
        "import numpy as np\n",
        "from numba import cuda\n",
        "n = 1000000\n",
        "a = np.random.uniform(-12, 12, n).astype(np.float32)\n",
        "b = np.random.uniform(-12, 12, n).astype(np.float32)\n",
        "d_a = cuda.to_device(a)\n",
        "d_b = cuda.to_device(b)\n",
        "d_c = cuda.device_array_like(d_b)\n",
        "\n",
        "blocks = 128\n",
        "threads_per_block = 64\n",
        "\n",
        "hypot_stride[blocks, threads_per_block](d_a, d_b, d_c)"
      ],
      "metadata": {
        "id": "ZstCe9gzRGTm"
      },
      "execution_count": 4,
      "outputs": []
    },
    {
      "cell_type": "code",
      "source": [
        "from numpy import testing\n",
        "testing.assert_almost_equal(np.hypot(a, b), d_c.copy_to_host(), decimal=5)"
      ],
      "metadata": {
        "id": "ViZbAPsVRLEX"
      },
      "execution_count": 5,
      "outputs": []
    }
  ]
}